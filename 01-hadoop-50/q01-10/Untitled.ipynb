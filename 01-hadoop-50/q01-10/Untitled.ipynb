{
 "cells": [
  {
   "cell_type": "code",
   "execution_count": 1,
   "metadata": {},
   "outputs": [],
   "source": [
    "#! python3\n",
    "r\"\"\"Test cases\n",
    ">>> run_answer() # doctest: +NORMALIZE_WHITESPACE\n",
    "credit_history\t1\n",
    "critical\t293\n",
    "delayed\t88\n",
    "fully repaid\t40\n",
    "fully repaid this bank\t49\n",
    "repaid\t530\n",
    "<BLANKLINE>\n",
    "\n",
    "\"\"\"\n",
    "import doctest\n",
    "import subprocess\n",
    "import os\n",
    "\n",
    "def run_answer():\n",
    "    '''Codigo especifico para ejecutar la respuesta'''\n",
    "    #----------------------------------------------------------------------------------------------\n",
    "    # Ejecuta el código del estudiante\n",
    "    #----------------------------------------------------------------------------------------------\n",
    "    result = os.popen('cat credit.csv | python3 mapper.py | sort | python3 reducer.py').read()\n",
    "    print(result)\n",
    "\n",
    "#--------------------------------------------------------------------------------------------------\n",
    "# Grader (generic)\n",
    "#--------------------------------------------------------------------------------------------------\n",
    "subprocess.run(['rm', '-f', '_SUCCESS']) # borra el flag de exito de la corrida\n",
    "RESULT = doctest.testmod()               # ejecuta el doctest\n",
    "FAIL, _ = RESULT                         # fail, total\n",
    "if FAIL == 0:                            # grading\n",
    "    open('_SUCCESS', 'a').close()        #\n",
    "else:\n",
    "    print('\\n')\n",
    "#--------------------------------------------------------------------------------------------------\n"
   ]
  }
 ],
 "metadata": {
  "kernelspec": {
   "display_name": "Python 3",
   "language": "python",
   "name": "python3"
  },
  "language_info": {
   "codemirror_mode": {
    "name": "ipython",
    "version": 3
   },
   "file_extension": ".py",
   "mimetype": "text/x-python",
   "name": "python",
   "nbconvert_exporter": "python",
   "pygments_lexer": "ipython3",
   "version": "3.6.9"
  }
 },
 "nbformat": 4,
 "nbformat_minor": 4
}
